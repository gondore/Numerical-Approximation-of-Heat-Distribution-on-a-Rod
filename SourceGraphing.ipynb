{
 "cells": [
  {
   "cell_type": "code",
   "execution_count": 1,
   "id": "97a74a0e",
   "metadata": {},
   "outputs": [],
   "source": [
    "import math \n",
    "import numpy as np\n",
    "import matplotlib.pyplot as plt\n"
   ]
  },
  {
   "cell_type": "code",
   "execution_count": 2,
   "id": "525926b0",
   "metadata": {},
   "outputs": [
    {
     "data": {
      "text/plain": [
       "'\\nuse (0, 1), (1,e), (2,e**2), and (3, e**3) to form a natural spline and approximate the definite integral in the interval (0,3)\\nS(x) approximates f(x) = e**x\\n'"
      ]
     },
     "execution_count": 2,
     "metadata": {},
     "output_type": "execute_result"
    }
   ],
   "source": [
    "\"\"\"\n",
    "use (0, 1), (1,e), (2,e**2), and (3, e**3) to form a natural spline and approximate the definite integral in the interval (0,3)\n",
    "S(x) approximates f(x) = e**x\n",
    "\"\"\""
   ]
  },
  {
   "cell_type": "code",
   "execution_count": 3,
   "id": "4753590f",
   "metadata": {},
   "outputs": [],
   "source": [
    "from scipy.interpolate import CubicSpline\n",
    "import matplotlib.pyplot as plt\n"
   ]
  },
  {
   "cell_type": "code",
   "execution_count": 4,
   "id": "b7da0c56",
   "metadata": {},
   "outputs": [],
   "source": [
    "def spline_interpolate(a, b):\n",
    "\n",
    "    # this is the data that we reference to interpolate\n",
    "    x_points = [0, 1, 2, 3]\n",
    "    y_points = [1, math.e, math.e**2, math.e**3]\n",
    "\n",
    "    cs = CubicSpline(x_points, y_points, bc_type ='natural')\n",
    "    integral = cs.integrate(a, b)\n",
    "    print(\"Integral from\", a, \"to\", b, \"is:\", integral)\n",
    "\n",
    "\n",
    "    x_new = np.arange(a, b, 0.1).tolist()\n",
    "    \n",
    "    plt.figure()\n",
    "    plt.plot(x_points, y_points, 'o', label='data points')\n",
    "    x_new = np.arange(a,b)\n",
    "    plt.plot(x_new, y_new, label='cubic spline')\n",
    "    plt.legend()\n",
    "    plt.xlabel('x')\n",
    "    plt.ylabel('y')\n",
    "    plt.title('Cubic Natural Spline Interpolation and Integration')\n",
    "    plt.show()\n",
    "    # this is the function that we will use to interpolate\n",
    "    return cs.integrate\n"
   ]
  },
  {
   "cell_type": "code",
   "execution_count": 5,
   "id": "73f7fe6a",
   "metadata": {},
   "outputs": [
    {
     "name": "stdout",
     "output_type": "stream",
     "text": [
      "Integral from 0 to 3 is: 19.55228648940373\n"
     ]
    },
    {
     "ename": "NameError",
     "evalue": "name 'y_new' is not defined",
     "output_type": "error",
     "traceback": [
      "\u001b[0;31m---------------------------------------------------------------------------\u001b[0m",
      "\u001b[0;31mNameError\u001b[0m                                 Traceback (most recent call last)",
      "\u001b[0;32m/var/folders/67/l5xlm3cj1bg4tpcpzx2xlq_h0000gn/T/ipykernel_8932/3829245498.py\u001b[0m in \u001b[0;36m<module>\u001b[0;34m\u001b[0m\n\u001b[0;32m----> 1\u001b[0;31m \u001b[0mspline_interpolate\u001b[0m\u001b[0;34m(\u001b[0m\u001b[0;36m0\u001b[0m\u001b[0;34m,\u001b[0m\u001b[0;36m3\u001b[0m\u001b[0;34m)\u001b[0m\u001b[0;34m\u001b[0m\u001b[0;34m\u001b[0m\u001b[0m\n\u001b[0m",
      "\u001b[0;32m/var/folders/67/l5xlm3cj1bg4tpcpzx2xlq_h0000gn/T/ipykernel_8932/3534985110.py\u001b[0m in \u001b[0;36mspline_interpolate\u001b[0;34m(a, b)\u001b[0m\n\u001b[1;32m     15\u001b[0m     \u001b[0mplt\u001b[0m\u001b[0;34m.\u001b[0m\u001b[0mplot\u001b[0m\u001b[0;34m(\u001b[0m\u001b[0mx_points\u001b[0m\u001b[0;34m,\u001b[0m \u001b[0my_points\u001b[0m\u001b[0;34m,\u001b[0m \u001b[0;34m'o'\u001b[0m\u001b[0;34m,\u001b[0m \u001b[0mlabel\u001b[0m\u001b[0;34m=\u001b[0m\u001b[0;34m'data points'\u001b[0m\u001b[0;34m)\u001b[0m\u001b[0;34m\u001b[0m\u001b[0;34m\u001b[0m\u001b[0m\n\u001b[1;32m     16\u001b[0m     \u001b[0mx_new\u001b[0m \u001b[0;34m=\u001b[0m \u001b[0mnp\u001b[0m\u001b[0;34m.\u001b[0m\u001b[0marange\u001b[0m\u001b[0;34m(\u001b[0m\u001b[0ma\u001b[0m\u001b[0;34m,\u001b[0m\u001b[0mb\u001b[0m\u001b[0;34m)\u001b[0m\u001b[0;34m\u001b[0m\u001b[0;34m\u001b[0m\u001b[0m\n\u001b[0;32m---> 17\u001b[0;31m     \u001b[0mplt\u001b[0m\u001b[0;34m.\u001b[0m\u001b[0mplot\u001b[0m\u001b[0;34m(\u001b[0m\u001b[0mx_new\u001b[0m\u001b[0;34m,\u001b[0m \u001b[0my_new\u001b[0m\u001b[0;34m,\u001b[0m \u001b[0mlabel\u001b[0m\u001b[0;34m=\u001b[0m\u001b[0;34m'cubic spline'\u001b[0m\u001b[0;34m)\u001b[0m\u001b[0;34m\u001b[0m\u001b[0;34m\u001b[0m\u001b[0m\n\u001b[0m\u001b[1;32m     18\u001b[0m     \u001b[0mplt\u001b[0m\u001b[0;34m.\u001b[0m\u001b[0mlegend\u001b[0m\u001b[0;34m(\u001b[0m\u001b[0;34m)\u001b[0m\u001b[0;34m\u001b[0m\u001b[0;34m\u001b[0m\u001b[0m\n\u001b[1;32m     19\u001b[0m     \u001b[0mplt\u001b[0m\u001b[0;34m.\u001b[0m\u001b[0mxlabel\u001b[0m\u001b[0;34m(\u001b[0m\u001b[0;34m'x'\u001b[0m\u001b[0;34m)\u001b[0m\u001b[0;34m\u001b[0m\u001b[0;34m\u001b[0m\u001b[0m\n",
      "\u001b[0;31mNameError\u001b[0m: name 'y_new' is not defined"
     ]
    },
    {
     "data": {
      "image/png": "[encoded data removed]",
      "text/plain": [
       "<Figure size 432x288 with 1 Axes>"
      ]
     },
     "metadata": {
      "needs_background": "light"
     },
     "output_type": "display_data"
    }
   ],
   "source": [
    "\n",
    "spline_interpolate(0,3)"
   ]
  },
  {
   "cell_type": "code",
   "execution_count": 6,
   "id": "b7bfa375",
   "metadata": {},
   "outputs": [],
   "source": [
    "def print_ppoly_equations(ppoly_instance):\n",
    "    \"\"\"\n",
    "    Prints the piecewise polynomial equations for a given PPoly instance.\n",
    "    \"\"\"\n",
    "    coefficients = ppoly_instance.c\n",
    "    breakpoints = ppoly_instance.x\n",
    "\n",
    "    for i in range(coefficients.shape[1]):\n",
    "        segment_coef = coefficients[:, i]\n",
    "        # Ignore leading coefficients that are zero\n",
    "        segment_coef = segment_coef[np.nonzero(segment_coef)[0][0]:]\n",
    "        equation = format_polynomial(segment_coef)\n",
    "        print(f'For x in [{breakpoints[i]}, {breakpoints[i + 1]}]:')\n",
    "        print(f'    {equation}')\n",
    "def format_polynomial(coefs, var='x'):\n",
    "    \"\"\"\n",
    "    Formats a single polynomial piece given its coefficients.\n",
    "    \"\"\"\n",
    "    n = len(coefs)\n",
    "    terms = []\n",
    "    for i, coef in enumerate(coefs):\n",
    "        power = n - i - 1\n",
    "        if coef != 0:\n",
    "            if power == 0:\n",
    "                terms.append(f'{coef:.3f}')\n",
    "            elif power == 1:\n",
    "                terms.append(f'{coef:.3f}*{var}')\n",
    "            else:\n",
    "                terms.append(f'{coef:.3f}*{var}^{power}')\n",
    "    return ' + '.join(terms) if terms else '0'\n"
   ]
  },
  {
   "cell_type": "code",
   "execution_count": 7,
   "id": "682bc102",
   "metadata": {},
   "outputs": [
    {
     "name": "stdout",
     "output_type": "stream",
     "text": [
      "For x in [0.0, 1.0]:\n",
      "    0.252*x^3 + -0.000*x^2 + 1.466*x + 1.000\n",
      "For x in [1.0, 2.0]:\n",
      "    1.691*x^3 + 0.757*x^2 + 2.223*x + 2.718\n",
      "For x in [2.0, 3.0]:\n",
      "    -1.943*x^3 + 5.830*x^2 + 8.810*x + 7.389\n"
     ]
    }
   ],
   "source": [
    "x_points = [0, 1, 2, 3]\n",
    "y_points = [1, math.e, math.e**2, math.e**3]\n",
    "\n",
    "cs = CubicSpline(x_points, y_points, bc_type ='natural')\n",
    "\n",
    "print_ppoly_equations(cs)"
   ]
  },
  {
   "cell_type": "code",
   "execution_count": null,
   "id": "20d3325a",
   "metadata": {},
   "outputs": [],
   "source": []
  }
 ],
 "metadata": {
  "kernelspec": {
   "display_name": "Python 3 (ipykernel)",
   "language": "python",
   "name": "python3"
  },
  "language_info": {
   "codemirror_mode": {
    "name": "ipython",
    "version": 3
   },
   "file_extension": ".py",
   "mimetype": "text/x-python",
   "name": "python",
   "nbconvert_exporter": "python",
   "pygments_lexer": "ipython3",
   "version": "3.9.7"
  }
 },
 "nbformat": 4,
 "nbformat_minor": 5
}
